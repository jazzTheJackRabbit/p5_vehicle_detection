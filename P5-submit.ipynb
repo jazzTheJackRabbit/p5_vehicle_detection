{
 "cells": [
  {
   "cell_type": "markdown",
   "metadata": {},
   "source": [
    "## Import Packages"
   ]
  },
  {
   "cell_type": "code",
   "execution_count": null,
   "metadata": {
    "collapsed": true
   },
   "outputs": [],
   "source": [
    "%load_ext autoreload\n",
    "%autoreload 2"
   ]
  },
  {
   "cell_type": "code",
   "execution_count": null,
   "metadata": {
    "collapsed": true
   },
   "outputs": [],
   "source": [
    "#importing some useful packages\n",
    "import matplotlib.pyplot as plt\n",
    "import matplotlib.image as mpimg\n",
    "import numpy as np\n",
    "import cv2\n",
    "%matplotlib inline"
   ]
  },
  {
   "cell_type": "markdown",
   "metadata": {},
   "source": [
    "## Ideas for Lane Detection Pipeline"
   ]
  },
  {
   "cell_type": "code",
   "execution_count": null,
   "metadata": {
    "collapsed": true
   },
   "outputs": [],
   "source": [
    "import pandas as pd\n",
    "import math\n",
    "import os"
   ]
  },
  {
   "cell_type": "code",
   "execution_count": 4,
   "metadata": {
    "collapsed": true
   },
   "outputs": [],
   "source": [
    "import pickle"
   ]
  },
  {
   "cell_type": "markdown",
   "metadata": {},
   "source": [
    "# Training"
   ]
  },
  {
   "cell_type": "code",
   "execution_count": 8,
   "metadata": {
    "collapsed": true
   },
   "outputs": [],
   "source": [
    "from vehicle_detection import VehicleDetectionPipeline\n",
    "from pipeline import ImageProcessor"
   ]
  },
  {
   "cell_type": "code",
   "execution_count": null,
   "metadata": {},
   "outputs": [],
   "source": [
    "path = './data/full/*/*/*.png'\n",
    "\n",
    "p = VehicleDetectionPipeline()\n",
    "\n",
    "p.preprocess_data(path=path)\n",
    "\n",
    "p.train()\n",
    "\n",
    "pickle.dump(p.classifier, open('classifier-all-ycrcb.p','wb'))\n",
    "pickle.dump(p.scaler, open('scaler-all-ycrcb.p','wb'))\n",
    "\n",
    "classifier = p.classifier\n",
    "scaler = p.scaler"
   ]
  },
  {
   "cell_type": "code",
   "execution_count": 6,
   "metadata": {
    "collapsed": true
   },
   "outputs": [],
   "source": [
    "classifier = pickle.load(open('classifier-all-ycrcb.p','rb'))\n",
    "scaler = pickle.load(open('scaler-all-ycrcb.p','rb'))"
   ]
  },
  {
   "cell_type": "markdown",
   "metadata": {},
   "source": [
    "# Video Test"
   ]
  },
  {
   "cell_type": "code",
   "execution_count": 10,
   "metadata": {},
   "outputs": [
    {
     "name": "stdout",
     "output_type": "stream",
     "text": [
      "[MoviePy] >>>> Building video /Users/amogh/workspace/jazz/code/courses/sdc_project5/output/project_video.mp4\n",
      "[MoviePy] Writing video /Users/amogh/workspace/jazz/code/courses/sdc_project5/output/project_video.mp4\n"
     ]
    },
    {
     "name": "stderr",
     "output_type": "stream",
     "text": [
      " 99%|█████████▉| 125/126 [04:34<00:02,  2.21s/it]\n"
     ]
    },
    {
     "name": "stdout",
     "output_type": "stream",
     "text": [
      "[MoviePy] Done.\n",
      "[MoviePy] >>>> Video ready: /Users/amogh/workspace/jazz/code/courses/sdc_project5/output/project_video.mp4 \n",
      "\n",
      "CPU times: user 4min 26s, sys: 7.31 s, total: 4min 33s\n",
      "Wall time: 4min 34s\n"
     ]
    },
    {
     "data": {
      "text/html": [
       "\n",
       "<video width=\"960\" height=\"540\" controls>\n",
       "  <source src=\"./output/project_video.mp4\" type=\"video/mp4\">\n",
       "</video>\n"
      ],
      "text/plain": [
       "<IPython.core.display.HTML object>"
      ]
     },
     "execution_count": 10,
     "metadata": {},
     "output_type": "execute_result"
    }
   ],
   "source": [
    "import imageio\n",
    "# imageio.plugins.ffmpeg.download()\n",
    "# Import everything needed to edit/save/watch video clips\n",
    "from moviepy.editor import VideoFileClip\n",
    "from IPython.display import HTML\n",
    "from functools import partial\n",
    "\n",
    "def gen():\n",
    "    for i in range(10,10000):\n",
    "        yield i\n",
    "        \n",
    "g = gen()\n",
    "\n",
    "def find_cars(image):\n",
    "    ip = ImageProcessor(image)\n",
    "    ip.run_find_cars(classifier, scaler)\n",
    "    return ip.result_image\n",
    "\n",
    "def extract_frames(image):\n",
    "    result = cv2.cvtColor(image, cv2.COLOR_BGR2RGB)\n",
    "    cv2.imwrite('./test_frames/frame_{}.jpg'.format(next(g)),result)\n",
    "    return result\n",
    "\n",
    "\n",
    "clip1 = VideoFileClip(\"project_video.mp4\")\n",
    "output_dir = \"./output\"\n",
    "file_name = \"project_video.mp4\"\n",
    "\n",
    "output_path = os.path.join(output_dir, file_name)\n",
    "video_output_path = os.path.realpath(output_path)\n",
    "output_clip = clip1.fl_image(find_cars).subclip(27,32)\n",
    "# output_clip = clip1.fl_image(find_cars)\n",
    "\n",
    "%time output_clip.write_videofile(video_output_path, audio=False)\n",
    "\n",
    "HTML(\"\"\"\n",
    "<video width=\"960\" height=\"540\" controls>\n",
    "  <source src=\"{0}\" type=\"video/mp4\">\n",
    "</video>\n",
    "\"\"\".format(output_path))"
   ]
  },
  {
   "cell_type": "markdown",
   "metadata": {},
   "source": [
    "# All Test Images"
   ]
  },
  {
   "cell_type": "code",
   "execution_count": null,
   "metadata": {
    "collapsed": true
   },
   "outputs": [],
   "source": [
    "from pipeline import ImageProcessor\n",
    "\n",
    "import glob\n",
    "image_list = glob.glob('./test_images/*.jpg')\n",
    "\n",
    "classifier = pickle.load(open('classifier-all-hog.p','rb'))\n",
    "scaler = pickle.load(open('scaler-all-hog.p','rb'))\n",
    "\n",
    "image_list\n",
    "\n",
    "for i in range(0,len(image_list)):\n",
    "    image_path = image_list[i]\n",
    "    ip = ImageProcessor('{}'.format(image_path))\n",
    "    ip.run_find_cars(classifier, scaler)\n",
    "    break"
   ]
  }
 ],
 "metadata": {
  "anaconda-cloud": {},
  "kernelspec": {
   "display_name": "Python 3",
   "language": "python",
   "name": "python3"
  },
  "language_info": {
   "codemirror_mode": {
    "name": "ipython",
    "version": 3
   },
   "file_extension": ".py",
   "mimetype": "text/x-python",
   "name": "python",
   "nbconvert_exporter": "python",
   "pygments_lexer": "ipython3",
   "version": "3.6.2"
  }
 },
 "nbformat": 4,
 "nbformat_minor": 1
}
